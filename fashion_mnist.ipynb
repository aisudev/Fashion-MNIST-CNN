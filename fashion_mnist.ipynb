{
  "cells": [
    {
      "cell_type": "markdown",
      "metadata": {
        "id": "view-in-github",
        "colab_type": "text"
      },
      "source": [
        "<a href=\"https://colab.research.google.com/github/aisudev/Fashion-MNIST-CNN/blob/main/fashion_mnist.ipynb\" target=\"_parent\"><img src=\"https://colab.research.google.com/assets/colab-badge.svg\" alt=\"Open In Colab\"/></a>"
      ]
    },
    {
      "cell_type": "markdown",
      "id": "1b59a3ac",
      "metadata": {
        "id": "1b59a3ac"
      },
      "source": [
        "# CNN with Fashion MNIST Dataset"
      ]
    },
    {
      "cell_type": "markdown",
      "id": "3d98bdb5",
      "metadata": {
        "id": "3d98bdb5"
      },
      "source": [
        "## Setup"
      ]
    },
    {
      "cell_type": "code",
      "execution_count": 26,
      "id": "cd938bdb-e35b-47e2-a641-5545a0af417e",
      "metadata": {
        "ExecuteTime": {
          "end_time": "2022-03-05T11:02:24.279476Z",
          "start_time": "2022-03-05T11:02:16.672982Z"
        },
        "colab": {
          "base_uri": "https://localhost:8080/"
        },
        "id": "cd938bdb-e35b-47e2-a641-5545a0af417e",
        "outputId": "b67dcb2b-f983-4f3c-8763-cddf7df2e1d0"
      },
      "outputs": [
        {
          "output_type": "stream",
          "name": "stdout",
          "text": [
            "Requirement already satisfied: gdown in /usr/local/lib/python3.7/dist-packages (4.4.0)\n",
            "Requirement already satisfied: six in /usr/local/lib/python3.7/dist-packages (from gdown) (1.15.0)\n",
            "Requirement already satisfied: filelock in /usr/local/lib/python3.7/dist-packages (from gdown) (3.6.0)\n",
            "Requirement already satisfied: beautifulsoup4 in /usr/local/lib/python3.7/dist-packages (from gdown) (4.6.3)\n",
            "Requirement already satisfied: tqdm in /usr/local/lib/python3.7/dist-packages (from gdown) (4.63.0)\n",
            "Requirement already satisfied: requests[socks] in /usr/local/lib/python3.7/dist-packages (from gdown) (2.23.0)\n",
            "Requirement already satisfied: idna<3,>=2.5 in /usr/local/lib/python3.7/dist-packages (from requests[socks]->gdown) (2.10)\n",
            "Requirement already satisfied: urllib3!=1.25.0,!=1.25.1,<1.26,>=1.21.1 in /usr/local/lib/python3.7/dist-packages (from requests[socks]->gdown) (1.24.3)\n",
            "Requirement already satisfied: chardet<4,>=3.0.2 in /usr/local/lib/python3.7/dist-packages (from requests[socks]->gdown) (3.0.4)\n",
            "Requirement already satisfied: certifi>=2017.4.17 in /usr/local/lib/python3.7/dist-packages (from requests[socks]->gdown) (2021.10.8)\n",
            "Requirement already satisfied: PySocks!=1.5.7,>=1.5.6 in /usr/local/lib/python3.7/dist-packages (from requests[socks]->gdown) (1.7.1)\n",
            "/usr/local/lib/python3.7/dist-packages/gdown/cli.py:131: FutureWarning: Option `--id` was deprecated in version 4.3.1 and will be removed in 5.0. You don't need to pass it anymore to use a file ID.\n",
            "  category=FutureWarning,\n",
            "Downloading...\n",
            "From: https://drive.google.com/uc?id=1VzgqdNgtkpfGAbsG2Sfcocnas81IW115\n",
            "To: /content/fashion_mnist.zip\n",
            "100% 39.6M/39.6M [00:00<00:00, 265MB/s]\n"
          ]
        }
      ],
      "source": [
        "!pip install --upgrade gdown\n",
        "!gdown --id 1VzgqdNgtkpfGAbsG2Sfcocnas81IW115"
      ]
    },
    {
      "cell_type": "code",
      "execution_count": 27,
      "id": "24962c99-0815-4a83-941a-7b6fd65555bf",
      "metadata": {
        "ExecuteTime": {
          "end_time": "2022-03-05T11:02:25.144539Z",
          "start_time": "2022-03-05T11:02:24.283089Z"
        },
        "colab": {
          "base_uri": "https://localhost:8080/"
        },
        "id": "24962c99-0815-4a83-941a-7b6fd65555bf",
        "outputId": "7600c174-2412-4fc8-f6cd-72ba71335834"
      },
      "outputs": [
        {
          "output_type": "stream",
          "name": "stdout",
          "text": [
            "Archive:  ./fashion_mnist.zip\n",
            "  inflating: fashion-mnist_train.csv  \n",
            "  inflating: fashion-mnist_test.csv  \n"
          ]
        }
      ],
      "source": [
        "!unzip -o ./fashion_mnist.zip"
      ]
    },
    {
      "cell_type": "markdown",
      "id": "6176df6e",
      "metadata": {
        "id": "6176df6e"
      },
      "source": [
        "## Preprocessing"
      ]
    },
    {
      "cell_type": "code",
      "execution_count": 28,
      "id": "b22755f6-c001-43af-bd07-d61555d47472",
      "metadata": {
        "ExecuteTime": {
          "end_time": "2022-03-05T11:02:25.754485Z",
          "start_time": "2022-03-05T11:02:25.147708Z"
        },
        "id": "b22755f6-c001-43af-bd07-d61555d47472"
      },
      "outputs": [],
      "source": [
        "import numpy as np\n",
        "import matplotlib.pyplot as plt\n",
        "import pandas as pd\n",
        "import cv2"
      ]
    },
    {
      "cell_type": "code",
      "execution_count": 29,
      "id": "031771ee-7ff6-4855-bf0d-9edc46781674",
      "metadata": {
        "ExecuteTime": {
          "end_time": "2022-03-05T11:02:27.814287Z",
          "start_time": "2022-03-05T11:02:25.755323Z"
        },
        "colab": {
          "base_uri": "https://localhost:8080/",
          "height": 236
        },
        "id": "031771ee-7ff6-4855-bf0d-9edc46781674",
        "outputId": "93a6c424-3d82-4ed6-d800-fb9bb3fa998d"
      },
      "outputs": [
        {
          "output_type": "execute_result",
          "data": {
            "text/html": [
              "\n",
              "  <div id=\"df-8a6fcf9f-7a3e-48ee-83bd-7216501bab13\">\n",
              "    <div class=\"colab-df-container\">\n",
              "      <div>\n",
              "<style scoped>\n",
              "    .dataframe tbody tr th:only-of-type {\n",
              "        vertical-align: middle;\n",
              "    }\n",
              "\n",
              "    .dataframe tbody tr th {\n",
              "        vertical-align: top;\n",
              "    }\n",
              "\n",
              "    .dataframe thead th {\n",
              "        text-align: right;\n",
              "    }\n",
              "</style>\n",
              "<table border=\"1\" class=\"dataframe\">\n",
              "  <thead>\n",
              "    <tr style=\"text-align: right;\">\n",
              "      <th></th>\n",
              "      <th>label</th>\n",
              "      <th>pixel1</th>\n",
              "      <th>pixel2</th>\n",
              "      <th>pixel3</th>\n",
              "      <th>pixel4</th>\n",
              "      <th>pixel5</th>\n",
              "      <th>pixel6</th>\n",
              "      <th>pixel7</th>\n",
              "      <th>pixel8</th>\n",
              "      <th>pixel9</th>\n",
              "      <th>...</th>\n",
              "      <th>pixel775</th>\n",
              "      <th>pixel776</th>\n",
              "      <th>pixel777</th>\n",
              "      <th>pixel778</th>\n",
              "      <th>pixel779</th>\n",
              "      <th>pixel780</th>\n",
              "      <th>pixel781</th>\n",
              "      <th>pixel782</th>\n",
              "      <th>pixel783</th>\n",
              "      <th>pixel784</th>\n",
              "    </tr>\n",
              "  </thead>\n",
              "  <tbody>\n",
              "    <tr>\n",
              "      <th>0</th>\n",
              "      <td>2</td>\n",
              "      <td>0</td>\n",
              "      <td>0</td>\n",
              "      <td>0</td>\n",
              "      <td>0</td>\n",
              "      <td>0</td>\n",
              "      <td>0</td>\n",
              "      <td>0</td>\n",
              "      <td>0</td>\n",
              "      <td>0</td>\n",
              "      <td>...</td>\n",
              "      <td>0</td>\n",
              "      <td>0</td>\n",
              "      <td>0</td>\n",
              "      <td>0</td>\n",
              "      <td>0</td>\n",
              "      <td>0</td>\n",
              "      <td>0</td>\n",
              "      <td>0</td>\n",
              "      <td>0</td>\n",
              "      <td>0</td>\n",
              "    </tr>\n",
              "    <tr>\n",
              "      <th>1</th>\n",
              "      <td>9</td>\n",
              "      <td>0</td>\n",
              "      <td>0</td>\n",
              "      <td>0</td>\n",
              "      <td>0</td>\n",
              "      <td>0</td>\n",
              "      <td>0</td>\n",
              "      <td>0</td>\n",
              "      <td>0</td>\n",
              "      <td>0</td>\n",
              "      <td>...</td>\n",
              "      <td>0</td>\n",
              "      <td>0</td>\n",
              "      <td>0</td>\n",
              "      <td>0</td>\n",
              "      <td>0</td>\n",
              "      <td>0</td>\n",
              "      <td>0</td>\n",
              "      <td>0</td>\n",
              "      <td>0</td>\n",
              "      <td>0</td>\n",
              "    </tr>\n",
              "    <tr>\n",
              "      <th>2</th>\n",
              "      <td>6</td>\n",
              "      <td>0</td>\n",
              "      <td>0</td>\n",
              "      <td>0</td>\n",
              "      <td>0</td>\n",
              "      <td>0</td>\n",
              "      <td>0</td>\n",
              "      <td>0</td>\n",
              "      <td>5</td>\n",
              "      <td>0</td>\n",
              "      <td>...</td>\n",
              "      <td>0</td>\n",
              "      <td>0</td>\n",
              "      <td>0</td>\n",
              "      <td>30</td>\n",
              "      <td>43</td>\n",
              "      <td>0</td>\n",
              "      <td>0</td>\n",
              "      <td>0</td>\n",
              "      <td>0</td>\n",
              "      <td>0</td>\n",
              "    </tr>\n",
              "    <tr>\n",
              "      <th>3</th>\n",
              "      <td>0</td>\n",
              "      <td>0</td>\n",
              "      <td>0</td>\n",
              "      <td>0</td>\n",
              "      <td>1</td>\n",
              "      <td>2</td>\n",
              "      <td>0</td>\n",
              "      <td>0</td>\n",
              "      <td>0</td>\n",
              "      <td>0</td>\n",
              "      <td>...</td>\n",
              "      <td>3</td>\n",
              "      <td>0</td>\n",
              "      <td>0</td>\n",
              "      <td>0</td>\n",
              "      <td>0</td>\n",
              "      <td>1</td>\n",
              "      <td>0</td>\n",
              "      <td>0</td>\n",
              "      <td>0</td>\n",
              "      <td>0</td>\n",
              "    </tr>\n",
              "    <tr>\n",
              "      <th>4</th>\n",
              "      <td>3</td>\n",
              "      <td>0</td>\n",
              "      <td>0</td>\n",
              "      <td>0</td>\n",
              "      <td>0</td>\n",
              "      <td>0</td>\n",
              "      <td>0</td>\n",
              "      <td>0</td>\n",
              "      <td>0</td>\n",
              "      <td>0</td>\n",
              "      <td>...</td>\n",
              "      <td>0</td>\n",
              "      <td>0</td>\n",
              "      <td>0</td>\n",
              "      <td>0</td>\n",
              "      <td>0</td>\n",
              "      <td>0</td>\n",
              "      <td>0</td>\n",
              "      <td>0</td>\n",
              "      <td>0</td>\n",
              "      <td>0</td>\n",
              "    </tr>\n",
              "  </tbody>\n",
              "</table>\n",
              "<p>5 rows × 785 columns</p>\n",
              "</div>\n",
              "      <button class=\"colab-df-convert\" onclick=\"convertToInteractive('df-8a6fcf9f-7a3e-48ee-83bd-7216501bab13')\"\n",
              "              title=\"Convert this dataframe to an interactive table.\"\n",
              "              style=\"display:none;\">\n",
              "        \n",
              "  <svg xmlns=\"http://www.w3.org/2000/svg\" height=\"24px\"viewBox=\"0 0 24 24\"\n",
              "       width=\"24px\">\n",
              "    <path d=\"M0 0h24v24H0V0z\" fill=\"none\"/>\n",
              "    <path d=\"M18.56 5.44l.94 2.06.94-2.06 2.06-.94-2.06-.94-.94-2.06-.94 2.06-2.06.94zm-11 1L8.5 8.5l.94-2.06 2.06-.94-2.06-.94L8.5 2.5l-.94 2.06-2.06.94zm10 10l.94 2.06.94-2.06 2.06-.94-2.06-.94-.94-2.06-.94 2.06-2.06.94z\"/><path d=\"M17.41 7.96l-1.37-1.37c-.4-.4-.92-.59-1.43-.59-.52 0-1.04.2-1.43.59L10.3 9.45l-7.72 7.72c-.78.78-.78 2.05 0 2.83L4 21.41c.39.39.9.59 1.41.59.51 0 1.02-.2 1.41-.59l7.78-7.78 2.81-2.81c.8-.78.8-2.07 0-2.86zM5.41 20L4 18.59l7.72-7.72 1.47 1.35L5.41 20z\"/>\n",
              "  </svg>\n",
              "      </button>\n",
              "      \n",
              "  <style>\n",
              "    .colab-df-container {\n",
              "      display:flex;\n",
              "      flex-wrap:wrap;\n",
              "      gap: 12px;\n",
              "    }\n",
              "\n",
              "    .colab-df-convert {\n",
              "      background-color: #E8F0FE;\n",
              "      border: none;\n",
              "      border-radius: 50%;\n",
              "      cursor: pointer;\n",
              "      display: none;\n",
              "      fill: #1967D2;\n",
              "      height: 32px;\n",
              "      padding: 0 0 0 0;\n",
              "      width: 32px;\n",
              "    }\n",
              "\n",
              "    .colab-df-convert:hover {\n",
              "      background-color: #E2EBFA;\n",
              "      box-shadow: 0px 1px 2px rgba(60, 64, 67, 0.3), 0px 1px 3px 1px rgba(60, 64, 67, 0.15);\n",
              "      fill: #174EA6;\n",
              "    }\n",
              "\n",
              "    [theme=dark] .colab-df-convert {\n",
              "      background-color: #3B4455;\n",
              "      fill: #D2E3FC;\n",
              "    }\n",
              "\n",
              "    [theme=dark] .colab-df-convert:hover {\n",
              "      background-color: #434B5C;\n",
              "      box-shadow: 0px 1px 3px 1px rgba(0, 0, 0, 0.15);\n",
              "      filter: drop-shadow(0px 1px 2px rgba(0, 0, 0, 0.3));\n",
              "      fill: #FFFFFF;\n",
              "    }\n",
              "  </style>\n",
              "\n",
              "      <script>\n",
              "        const buttonEl =\n",
              "          document.querySelector('#df-8a6fcf9f-7a3e-48ee-83bd-7216501bab13 button.colab-df-convert');\n",
              "        buttonEl.style.display =\n",
              "          google.colab.kernel.accessAllowed ? 'block' : 'none';\n",
              "\n",
              "        async function convertToInteractive(key) {\n",
              "          const element = document.querySelector('#df-8a6fcf9f-7a3e-48ee-83bd-7216501bab13');\n",
              "          const dataTable =\n",
              "            await google.colab.kernel.invokeFunction('convertToInteractive',\n",
              "                                                     [key], {});\n",
              "          if (!dataTable) return;\n",
              "\n",
              "          const docLinkHtml = 'Like what you see? Visit the ' +\n",
              "            '<a target=\"_blank\" href=https://colab.research.google.com/notebooks/data_table.ipynb>data table notebook</a>'\n",
              "            + ' to learn more about interactive tables.';\n",
              "          element.innerHTML = '';\n",
              "          dataTable['output_type'] = 'display_data';\n",
              "          await google.colab.output.renderOutput(dataTable, element);\n",
              "          const docLink = document.createElement('div');\n",
              "          docLink.innerHTML = docLinkHtml;\n",
              "          element.appendChild(docLink);\n",
              "        }\n",
              "      </script>\n",
              "    </div>\n",
              "  </div>\n",
              "  "
            ],
            "text/plain": [
              "   label  pixel1  pixel2  pixel3  pixel4  pixel5  pixel6  pixel7  pixel8  \\\n",
              "0      2       0       0       0       0       0       0       0       0   \n",
              "1      9       0       0       0       0       0       0       0       0   \n",
              "2      6       0       0       0       0       0       0       0       5   \n",
              "3      0       0       0       0       1       2       0       0       0   \n",
              "4      3       0       0       0       0       0       0       0       0   \n",
              "\n",
              "   pixel9  ...  pixel775  pixel776  pixel777  pixel778  pixel779  pixel780  \\\n",
              "0       0  ...         0         0         0         0         0         0   \n",
              "1       0  ...         0         0         0         0         0         0   \n",
              "2       0  ...         0         0         0        30        43         0   \n",
              "3       0  ...         3         0         0         0         0         1   \n",
              "4       0  ...         0         0         0         0         0         0   \n",
              "\n",
              "   pixel781  pixel782  pixel783  pixel784  \n",
              "0         0         0         0         0  \n",
              "1         0         0         0         0  \n",
              "2         0         0         0         0  \n",
              "3         0         0         0         0  \n",
              "4         0         0         0         0  \n",
              "\n",
              "[5 rows x 785 columns]"
            ]
          },
          "metadata": {},
          "execution_count": 29
        }
      ],
      "source": [
        "train_df = pd.read_csv('./fashion-mnist_train.csv')\n",
        "test_df = pd.read_csv('./fashion-mnist_test.csv')\n",
        "train_df.head()"
      ]
    },
    {
      "cell_type": "code",
      "execution_count": 30,
      "id": "2f6b0799-1ce4-42d9-8a2e-b9c1a25982cc",
      "metadata": {
        "ExecuteTime": {
          "end_time": "2022-03-05T11:02:27.820955Z",
          "start_time": "2022-03-05T11:02:27.814933Z"
        },
        "colab": {
          "base_uri": "https://localhost:8080/",
          "height": 236
        },
        "id": "2f6b0799-1ce4-42d9-8a2e-b9c1a25982cc",
        "outputId": "a0723e9f-58b3-481e-8791-6e39e8be95c7"
      },
      "outputs": [
        {
          "output_type": "execute_result",
          "data": {
            "text/html": [
              "\n",
              "  <div id=\"df-d8eba344-f276-4828-8816-130d21d296ea\">\n",
              "    <div class=\"colab-df-container\">\n",
              "      <div>\n",
              "<style scoped>\n",
              "    .dataframe tbody tr th:only-of-type {\n",
              "        vertical-align: middle;\n",
              "    }\n",
              "\n",
              "    .dataframe tbody tr th {\n",
              "        vertical-align: top;\n",
              "    }\n",
              "\n",
              "    .dataframe thead th {\n",
              "        text-align: right;\n",
              "    }\n",
              "</style>\n",
              "<table border=\"1\" class=\"dataframe\">\n",
              "  <thead>\n",
              "    <tr style=\"text-align: right;\">\n",
              "      <th></th>\n",
              "      <th>label</th>\n",
              "      <th>pixel1</th>\n",
              "      <th>pixel2</th>\n",
              "      <th>pixel3</th>\n",
              "      <th>pixel4</th>\n",
              "      <th>pixel5</th>\n",
              "      <th>pixel6</th>\n",
              "      <th>pixel7</th>\n",
              "      <th>pixel8</th>\n",
              "      <th>pixel9</th>\n",
              "      <th>...</th>\n",
              "      <th>pixel775</th>\n",
              "      <th>pixel776</th>\n",
              "      <th>pixel777</th>\n",
              "      <th>pixel778</th>\n",
              "      <th>pixel779</th>\n",
              "      <th>pixel780</th>\n",
              "      <th>pixel781</th>\n",
              "      <th>pixel782</th>\n",
              "      <th>pixel783</th>\n",
              "      <th>pixel784</th>\n",
              "    </tr>\n",
              "  </thead>\n",
              "  <tbody>\n",
              "    <tr>\n",
              "      <th>0</th>\n",
              "      <td>0</td>\n",
              "      <td>0</td>\n",
              "      <td>0</td>\n",
              "      <td>0</td>\n",
              "      <td>0</td>\n",
              "      <td>0</td>\n",
              "      <td>0</td>\n",
              "      <td>0</td>\n",
              "      <td>9</td>\n",
              "      <td>8</td>\n",
              "      <td>...</td>\n",
              "      <td>103</td>\n",
              "      <td>87</td>\n",
              "      <td>56</td>\n",
              "      <td>0</td>\n",
              "      <td>0</td>\n",
              "      <td>0</td>\n",
              "      <td>0</td>\n",
              "      <td>0</td>\n",
              "      <td>0</td>\n",
              "      <td>0</td>\n",
              "    </tr>\n",
              "    <tr>\n",
              "      <th>1</th>\n",
              "      <td>1</td>\n",
              "      <td>0</td>\n",
              "      <td>0</td>\n",
              "      <td>0</td>\n",
              "      <td>0</td>\n",
              "      <td>0</td>\n",
              "      <td>0</td>\n",
              "      <td>0</td>\n",
              "      <td>0</td>\n",
              "      <td>0</td>\n",
              "      <td>...</td>\n",
              "      <td>34</td>\n",
              "      <td>0</td>\n",
              "      <td>0</td>\n",
              "      <td>0</td>\n",
              "      <td>0</td>\n",
              "      <td>0</td>\n",
              "      <td>0</td>\n",
              "      <td>0</td>\n",
              "      <td>0</td>\n",
              "      <td>0</td>\n",
              "    </tr>\n",
              "    <tr>\n",
              "      <th>2</th>\n",
              "      <td>2</td>\n",
              "      <td>0</td>\n",
              "      <td>0</td>\n",
              "      <td>0</td>\n",
              "      <td>0</td>\n",
              "      <td>0</td>\n",
              "      <td>0</td>\n",
              "      <td>14</td>\n",
              "      <td>53</td>\n",
              "      <td>99</td>\n",
              "      <td>...</td>\n",
              "      <td>0</td>\n",
              "      <td>0</td>\n",
              "      <td>0</td>\n",
              "      <td>0</td>\n",
              "      <td>63</td>\n",
              "      <td>53</td>\n",
              "      <td>31</td>\n",
              "      <td>0</td>\n",
              "      <td>0</td>\n",
              "      <td>0</td>\n",
              "    </tr>\n",
              "    <tr>\n",
              "      <th>3</th>\n",
              "      <td>2</td>\n",
              "      <td>0</td>\n",
              "      <td>0</td>\n",
              "      <td>0</td>\n",
              "      <td>0</td>\n",
              "      <td>0</td>\n",
              "      <td>0</td>\n",
              "      <td>0</td>\n",
              "      <td>0</td>\n",
              "      <td>0</td>\n",
              "      <td>...</td>\n",
              "      <td>137</td>\n",
              "      <td>126</td>\n",
              "      <td>140</td>\n",
              "      <td>0</td>\n",
              "      <td>133</td>\n",
              "      <td>224</td>\n",
              "      <td>222</td>\n",
              "      <td>56</td>\n",
              "      <td>0</td>\n",
              "      <td>0</td>\n",
              "    </tr>\n",
              "    <tr>\n",
              "      <th>4</th>\n",
              "      <td>3</td>\n",
              "      <td>0</td>\n",
              "      <td>0</td>\n",
              "      <td>0</td>\n",
              "      <td>0</td>\n",
              "      <td>0</td>\n",
              "      <td>0</td>\n",
              "      <td>0</td>\n",
              "      <td>0</td>\n",
              "      <td>0</td>\n",
              "      <td>...</td>\n",
              "      <td>0</td>\n",
              "      <td>0</td>\n",
              "      <td>0</td>\n",
              "      <td>0</td>\n",
              "      <td>0</td>\n",
              "      <td>0</td>\n",
              "      <td>0</td>\n",
              "      <td>0</td>\n",
              "      <td>0</td>\n",
              "      <td>0</td>\n",
              "    </tr>\n",
              "  </tbody>\n",
              "</table>\n",
              "<p>5 rows × 785 columns</p>\n",
              "</div>\n",
              "      <button class=\"colab-df-convert\" onclick=\"convertToInteractive('df-d8eba344-f276-4828-8816-130d21d296ea')\"\n",
              "              title=\"Convert this dataframe to an interactive table.\"\n",
              "              style=\"display:none;\">\n",
              "        \n",
              "  <svg xmlns=\"http://www.w3.org/2000/svg\" height=\"24px\"viewBox=\"0 0 24 24\"\n",
              "       width=\"24px\">\n",
              "    <path d=\"M0 0h24v24H0V0z\" fill=\"none\"/>\n",
              "    <path d=\"M18.56 5.44l.94 2.06.94-2.06 2.06-.94-2.06-.94-.94-2.06-.94 2.06-2.06.94zm-11 1L8.5 8.5l.94-2.06 2.06-.94-2.06-.94L8.5 2.5l-.94 2.06-2.06.94zm10 10l.94 2.06.94-2.06 2.06-.94-2.06-.94-.94-2.06-.94 2.06-2.06.94z\"/><path d=\"M17.41 7.96l-1.37-1.37c-.4-.4-.92-.59-1.43-.59-.52 0-1.04.2-1.43.59L10.3 9.45l-7.72 7.72c-.78.78-.78 2.05 0 2.83L4 21.41c.39.39.9.59 1.41.59.51 0 1.02-.2 1.41-.59l7.78-7.78 2.81-2.81c.8-.78.8-2.07 0-2.86zM5.41 20L4 18.59l7.72-7.72 1.47 1.35L5.41 20z\"/>\n",
              "  </svg>\n",
              "      </button>\n",
              "      \n",
              "  <style>\n",
              "    .colab-df-container {\n",
              "      display:flex;\n",
              "      flex-wrap:wrap;\n",
              "      gap: 12px;\n",
              "    }\n",
              "\n",
              "    .colab-df-convert {\n",
              "      background-color: #E8F0FE;\n",
              "      border: none;\n",
              "      border-radius: 50%;\n",
              "      cursor: pointer;\n",
              "      display: none;\n",
              "      fill: #1967D2;\n",
              "      height: 32px;\n",
              "      padding: 0 0 0 0;\n",
              "      width: 32px;\n",
              "    }\n",
              "\n",
              "    .colab-df-convert:hover {\n",
              "      background-color: #E2EBFA;\n",
              "      box-shadow: 0px 1px 2px rgba(60, 64, 67, 0.3), 0px 1px 3px 1px rgba(60, 64, 67, 0.15);\n",
              "      fill: #174EA6;\n",
              "    }\n",
              "\n",
              "    [theme=dark] .colab-df-convert {\n",
              "      background-color: #3B4455;\n",
              "      fill: #D2E3FC;\n",
              "    }\n",
              "\n",
              "    [theme=dark] .colab-df-convert:hover {\n",
              "      background-color: #434B5C;\n",
              "      box-shadow: 0px 1px 3px 1px rgba(0, 0, 0, 0.15);\n",
              "      filter: drop-shadow(0px 1px 2px rgba(0, 0, 0, 0.3));\n",
              "      fill: #FFFFFF;\n",
              "    }\n",
              "  </style>\n",
              "\n",
              "      <script>\n",
              "        const buttonEl =\n",
              "          document.querySelector('#df-d8eba344-f276-4828-8816-130d21d296ea button.colab-df-convert');\n",
              "        buttonEl.style.display =\n",
              "          google.colab.kernel.accessAllowed ? 'block' : 'none';\n",
              "\n",
              "        async function convertToInteractive(key) {\n",
              "          const element = document.querySelector('#df-d8eba344-f276-4828-8816-130d21d296ea');\n",
              "          const dataTable =\n",
              "            await google.colab.kernel.invokeFunction('convertToInteractive',\n",
              "                                                     [key], {});\n",
              "          if (!dataTable) return;\n",
              "\n",
              "          const docLinkHtml = 'Like what you see? Visit the ' +\n",
              "            '<a target=\"_blank\" href=https://colab.research.google.com/notebooks/data_table.ipynb>data table notebook</a>'\n",
              "            + ' to learn more about interactive tables.';\n",
              "          element.innerHTML = '';\n",
              "          dataTable['output_type'] = 'display_data';\n",
              "          await google.colab.output.renderOutput(dataTable, element);\n",
              "          const docLink = document.createElement('div');\n",
              "          docLink.innerHTML = docLinkHtml;\n",
              "          element.appendChild(docLink);\n",
              "        }\n",
              "      </script>\n",
              "    </div>\n",
              "  </div>\n",
              "  "
            ],
            "text/plain": [
              "   label  pixel1  pixel2  pixel3  pixel4  pixel5  pixel6  pixel7  pixel8  \\\n",
              "0      0       0       0       0       0       0       0       0       9   \n",
              "1      1       0       0       0       0       0       0       0       0   \n",
              "2      2       0       0       0       0       0       0      14      53   \n",
              "3      2       0       0       0       0       0       0       0       0   \n",
              "4      3       0       0       0       0       0       0       0       0   \n",
              "\n",
              "   pixel9  ...  pixel775  pixel776  pixel777  pixel778  pixel779  pixel780  \\\n",
              "0       8  ...       103        87        56         0         0         0   \n",
              "1       0  ...        34         0         0         0         0         0   \n",
              "2      99  ...         0         0         0         0        63        53   \n",
              "3       0  ...       137       126       140         0       133       224   \n",
              "4       0  ...         0         0         0         0         0         0   \n",
              "\n",
              "   pixel781  pixel782  pixel783  pixel784  \n",
              "0         0         0         0         0  \n",
              "1         0         0         0         0  \n",
              "2        31         0         0         0  \n",
              "3       222        56         0         0  \n",
              "4         0         0         0         0  \n",
              "\n",
              "[5 rows x 785 columns]"
            ]
          },
          "metadata": {},
          "execution_count": 30
        }
      ],
      "source": [
        "test_df.head()"
      ]
    },
    {
      "cell_type": "code",
      "execution_count": 31,
      "id": "45c04926-9cdc-4e77-86ce-043783850eaf",
      "metadata": {
        "ExecuteTime": {
          "end_time": "2022-03-05T11:02:27.823541Z",
          "start_time": "2022-03-05T11:02:27.821552Z"
        },
        "colab": {
          "base_uri": "https://localhost:8080/"
        },
        "id": "45c04926-9cdc-4e77-86ce-043783850eaf",
        "outputId": "23e992af-a67c-4c6b-f100-3b247b0cb04b"
      },
      "outputs": [
        {
          "output_type": "execute_result",
          "data": {
            "text/plain": [
              "Index(['label', 'pixel1', 'pixel2', 'pixel3', 'pixel4', 'pixel5', 'pixel6',\n",
              "       'pixel7', 'pixel8', 'pixel9',\n",
              "       ...\n",
              "       'pixel775', 'pixel776', 'pixel777', 'pixel778', 'pixel779', 'pixel780',\n",
              "       'pixel781', 'pixel782', 'pixel783', 'pixel784'],\n",
              "      dtype='object', length=785)"
            ]
          },
          "metadata": {},
          "execution_count": 31
        }
      ],
      "source": [
        "train_df.columns"
      ]
    },
    {
      "cell_type": "code",
      "execution_count": 32,
      "id": "8a5be7c6-73c3-4e4c-a62f-e6552b05d387",
      "metadata": {
        "ExecuteTime": {
          "end_time": "2022-03-05T11:02:27.951326Z",
          "start_time": "2022-03-05T11:02:27.824064Z"
        },
        "colab": {
          "base_uri": "https://localhost:8080/"
        },
        "id": "8a5be7c6-73c3-4e4c-a62f-e6552b05d387",
        "outputId": "c0822d6b-077d-40f1-feb7-660d89c6144d"
      },
      "outputs": [
        {
          "output_type": "execute_result",
          "data": {
            "text/plain": [
              "((60000,), (10000,), array([0, 1, 2, 3, 4, 5, 6, 7, 8, 9]))"
            ]
          },
          "metadata": {},
          "execution_count": 32
        }
      ],
      "source": [
        "train_labels = train_df.label.to_numpy()\n",
        "train_df.drop(['label'], axis=1, inplace=True)\n",
        "\n",
        "test_labels = test_df.label.to_numpy()\n",
        "test_df.drop(['label'], axis=1, inplace=True)\n",
        "\n",
        "train_labels.shape, test_labels.shape, np.unique(train_labels)"
      ]
    },
    {
      "cell_type": "code",
      "execution_count": 33,
      "id": "3b617dc5-6edc-4920-b016-70581c01788e",
      "metadata": {
        "ExecuteTime": {
          "end_time": "2022-03-05T11:02:27.954646Z",
          "start_time": "2022-03-05T11:02:27.952549Z"
        },
        "id": "3b617dc5-6edc-4920-b016-70581c01788e"
      },
      "outputs": [],
      "source": [
        "def oneHotEncoder(labels):\n",
        "    labels = labels.reshape(-1, 1).ravel()\n",
        "    labels = np.eye(np.unique(labels).shape[0])[np.array(labels, dtype=np.uint)]\n",
        "    return labels\n",
        "    "
      ]
    },
    {
      "cell_type": "code",
      "execution_count": 34,
      "id": "c8491d6c-795b-421a-96df-bfce4e4fddcd",
      "metadata": {
        "ExecuteTime": {
          "end_time": "2022-03-05T11:02:27.960260Z",
          "start_time": "2022-03-05T11:02:27.955806Z"
        },
        "colab": {
          "base_uri": "https://localhost:8080/"
        },
        "id": "c8491d6c-795b-421a-96df-bfce4e4fddcd",
        "outputId": "ee3bca5b-65ab-4b8b-d539-ae67debcc362"
      },
      "outputs": [
        {
          "output_type": "execute_result",
          "data": {
            "text/plain": [
              "array([[0., 0., 1., ..., 0., 0., 0.],\n",
              "       [0., 0., 0., ..., 0., 0., 1.],\n",
              "       [0., 0., 0., ..., 0., 0., 0.],\n",
              "       ...,\n",
              "       [0., 0., 0., ..., 0., 1., 0.],\n",
              "       [0., 0., 0., ..., 0., 1., 0.],\n",
              "       [0., 0., 0., ..., 1., 0., 0.]])"
            ]
          },
          "metadata": {},
          "execution_count": 34
        }
      ],
      "source": [
        "train_labels = oneHotEncoder(train_labels)\n",
        "train_labels"
      ]
    },
    {
      "cell_type": "code",
      "execution_count": 35,
      "id": "82406be6-ada4-42de-bccb-8b7660106e9e",
      "metadata": {
        "ExecuteTime": {
          "end_time": "2022-03-05T11:02:27.963147Z",
          "start_time": "2022-03-05T11:02:27.960848Z"
        },
        "colab": {
          "base_uri": "https://localhost:8080/"
        },
        "id": "82406be6-ada4-42de-bccb-8b7660106e9e",
        "outputId": "925d5ddd-06b4-42a8-ea40-4e074a4ec320"
      },
      "outputs": [
        {
          "output_type": "execute_result",
          "data": {
            "text/plain": [
              "array([[1., 0., 0., ..., 0., 0., 0.],\n",
              "       [0., 1., 0., ..., 0., 0., 0.],\n",
              "       [0., 0., 1., ..., 0., 0., 0.],\n",
              "       ...,\n",
              "       [0., 0., 0., ..., 0., 1., 0.],\n",
              "       [0., 0., 0., ..., 0., 1., 0.],\n",
              "       [0., 1., 0., ..., 0., 0., 0.]])"
            ]
          },
          "metadata": {},
          "execution_count": 35
        }
      ],
      "source": [
        "test_labels = oneHotEncoder(test_labels)\n",
        "test_labels"
      ]
    },
    {
      "cell_type": "code",
      "execution_count": 36,
      "id": "44f3a0cf-a6a6-41fd-8ca4-b227c968b9f1",
      "metadata": {
        "ExecuteTime": {
          "end_time": "2022-03-05T11:02:27.965111Z",
          "start_time": "2022-03-05T11:02:27.963709Z"
        },
        "id": "44f3a0cf-a6a6-41fd-8ca4-b227c968b9f1"
      },
      "outputs": [],
      "source": [
        "def preprocess(data:np.ndarray):\n",
        "    data = np.dstack([data] * 3)\n",
        "    data = data.reshape(-1, 28, 28, 3)\n",
        "    return data / 255."
      ]
    },
    {
      "cell_type": "code",
      "execution_count": 37,
      "id": "d52c9364-5259-4f26-b0c9-e50c9d3e94ef",
      "metadata": {
        "ExecuteTime": {
          "end_time": "2022-03-05T11:02:28.922829Z",
          "start_time": "2022-03-05T11:02:27.965768Z"
        },
        "colab": {
          "base_uri": "https://localhost:8080/"
        },
        "id": "d52c9364-5259-4f26-b0c9-e50c9d3e94ef",
        "outputId": "b3385678-f0a7-420b-a0a2-d7096b36b60f"
      },
      "outputs": [
        {
          "output_type": "execute_result",
          "data": {
            "text/plain": [
              "((60000, 28, 28, 3), (10000, 28, 28, 3))"
            ]
          },
          "metadata": {},
          "execution_count": 37
        }
      ],
      "source": [
        "train_images = train_df.to_numpy()\n",
        "train_images = preprocess(train_images)\n",
        "\n",
        "test_images = test_df.to_numpy()\n",
        "test_images = preprocess(test_images)\n",
        "\n",
        "train_images.shape, test_images.shape"
      ]
    },
    {
      "cell_type": "code",
      "execution_count": 38,
      "id": "955642e1-72b4-4a1d-9fdb-3feb15501a68",
      "metadata": {
        "ExecuteTime": {
          "end_time": "2022-03-05T11:02:28.925638Z",
          "start_time": "2022-03-05T11:02:28.923478Z"
        },
        "id": "955642e1-72b4-4a1d-9fdb-3feb15501a68"
      },
      "outputs": [],
      "source": [
        "def random_display(data:np.ndarray, label:np.ndarray):\n",
        "    rand_ind = np.random.randint(0, data.shape[0], 10)\n",
        "    _, axs = plt.subplots(2, 5, figsize=(20, 10))\n",
        "    n = 0\n",
        "    \n",
        "    for row in axs:\n",
        "        for col in row:\n",
        "            col.set_title(np.argmax(label[n]))\n",
        "            col.imshow(data[rand_ind[n]])\n",
        "            n += 1\n",
        "            \n",
        "    plt.show()"
      ]
    },
    {
      "cell_type": "code",
      "execution_count": 39,
      "id": "c1934977-8f7a-46e7-9e3a-0dcc112679a3",
      "metadata": {
        "ExecuteTime": {
          "end_time": "2022-03-05T11:02:29.368157Z",
          "start_time": "2022-03-05T11:02:28.926286Z"
        },
        "colab": {
          "base_uri": "https://localhost:8080/",
          "height": 553
        },
        "id": "c1934977-8f7a-46e7-9e3a-0dcc112679a3",
        "outputId": "08270288-ef9c-4226-cc48-a3f7857cf3a9"
      },
      "outputs": [
        {
          "output_type": "display_data",
          "data": {
            "image/png": "[encoded data removed]",
            "text/plain": [
              "<Figure size 1440x720 with 10 Axes>"
            ]
          },
          "metadata": {
            "needs_background": "light"
          }
        }
      ],
      "source": [
        "random_display(train_images, train_labels)"
      ]
    },
    {
      "cell_type": "code",
      "execution_count": 40,
      "id": "2c312afa-f0b2-4fde-ae1a-c7942d4b440d",
      "metadata": {
        "ExecuteTime": {
          "end_time": "2022-03-05T11:02:30.890819Z",
          "start_time": "2022-03-05T11:02:29.369251Z"
        },
        "colab": {
          "base_uri": "https://localhost:8080/"
        },
        "id": "2c312afa-f0b2-4fde-ae1a-c7942d4b440d",
        "outputId": "60be350c-c735-4014-9dbf-634364dec794"
      },
      "outputs": [
        {
          "output_type": "execute_result",
          "data": {
            "text/plain": [
              "((48000, 28, 28, 3), (12000, 28, 28, 3), (48000, 10), (12000, 10))"
            ]
          },
          "metadata": {},
          "execution_count": 40
        }
      ],
      "source": [
        "from sklearn.model_selection import train_test_split\n",
        "\n",
        "train_images, val_images, train_labels, val_labels = train_test_split(train_images, train_labels, test_size=.2)\n",
        "train_images.shape, val_images.shape, train_labels.shape, val_labels.shape"
      ]
    },
    {
      "cell_type": "markdown",
      "id": "816af531",
      "metadata": {
        "id": "816af531"
      },
      "source": [
        "## Modeling"
      ]
    },
    {
      "cell_type": "code",
      "execution_count": 41,
      "id": "9f2e2e13-1c18-49f8-9ea9-6d9a38fc8211",
      "metadata": {
        "ExecuteTime": {
          "end_time": "2022-03-05T11:02:32.227040Z",
          "start_time": "2022-03-05T11:02:30.891499Z"
        },
        "id": "9f2e2e13-1c18-49f8-9ea9-6d9a38fc8211"
      },
      "outputs": [],
      "source": [
        "from tensorflow.keras import layers, Sequential"
      ]
    },
    {
      "cell_type": "code",
      "execution_count": 42,
      "id": "454867d1-00c5-4449-9cb6-7b2873a9a413",
      "metadata": {
        "ExecuteTime": {
          "end_time": "2022-03-05T11:30:23.377049Z",
          "start_time": "2022-03-05T11:30:23.295866Z"
        },
        "id": "454867d1-00c5-4449-9cb6-7b2873a9a413"
      },
      "outputs": [],
      "source": [
        "model = Sequential([\n",
        "    layers.Input(shape=(28, 28, 3)),\n",
        "    \n",
        "    layers.Conv2D(filters=64, kernel_size=3, padding='same', activation='relu'),\n",
        "    layers.Conv2D(filters=64, kernel_size=3, padding='same', activation='relu'),\n",
        "    layers.MaxPooling2D(),\n",
        "    \n",
        "    layers.Conv2D(filters=128, kernel_size=3, padding='same', activation='relu'),\n",
        "    layers.Conv2D(filters=128, kernel_size=3, padding='same', activation='relu'),\n",
        "    layers.MaxPooling2D(),\n",
        "    \n",
        "    layers.Conv2D(filters=256, kernel_size=3, padding='same', activation='relu'),\n",
        "    layers.Conv2D(filters=256, kernel_size=3, padding='same', activation='relu'),\n",
        "    layers.Conv2D(filters=256, kernel_size=3, padding='same', activation='relu'),\n",
        "    layers.MaxPooling2D(),\n",
        "    \n",
        "    layers.Conv2D(filters=512, kernel_size=3, padding='same', activation='relu'),\n",
        "    layers.Conv2D(filters=512, kernel_size=3, padding='same', activation='relu'),\n",
        "    layers.Conv2D(filters=512, kernel_size=3, padding='same', activation='relu'),\n",
        "    layers.MaxPooling2D(),\n",
        "    \n",
        "    layers.Flatten(),\n",
        "    layers.Dense(4096, activation='relu'),\n",
        "    layers.Dense(4096, activation='relu'),\n",
        "    layers.Dense(10, activation='softmax')\n",
        "])"
      ]
    },
    {
      "cell_type": "code",
      "execution_count": 43,
      "id": "319f0e71",
      "metadata": {
        "ExecuteTime": {
          "end_time": "2022-03-05T11:30:23.793099Z",
          "start_time": "2022-03-05T11:30:23.781982Z"
        },
        "colab": {
          "base_uri": "https://localhost:8080/"
        },
        "id": "319f0e71",
        "outputId": "ffda8703-a273-4cbf-eec7-c1895eaac80d"
      },
      "outputs": [
        {
          "output_type": "stream",
          "name": "stdout",
          "text": [
            "Model: \"sequential_1\"\n",
            "_________________________________________________________________\n",
            " Layer (type)                Output Shape              Param #   \n",
            "=================================================================\n",
            " conv2d_10 (Conv2D)          (None, 28, 28, 64)        1792      \n",
            "                                                                 \n",
            " conv2d_11 (Conv2D)          (None, 28, 28, 64)        36928     \n",
            "                                                                 \n",
            " max_pooling2d_4 (MaxPooling  (None, 14, 14, 64)       0         \n",
            " 2D)                                                             \n",
            "                                                                 \n",
            " conv2d_12 (Conv2D)          (None, 14, 14, 128)       73856     \n",
            "                                                                 \n",
            " conv2d_13 (Conv2D)          (None, 14, 14, 128)       147584    \n",
            "                                                                 \n",
            " max_pooling2d_5 (MaxPooling  (None, 7, 7, 128)        0         \n",
            " 2D)                                                             \n",
            "                                                                 \n",
            " conv2d_14 (Conv2D)          (None, 7, 7, 256)         295168    \n",
            "                                                                 \n",
            " conv2d_15 (Conv2D)          (None, 7, 7, 256)         590080    \n",
            "                                                                 \n",
            " conv2d_16 (Conv2D)          (None, 7, 7, 256)         590080    \n",
            "                                                                 \n",
            " max_pooling2d_6 (MaxPooling  (None, 3, 3, 256)        0         \n",
            " 2D)                                                             \n",
            "                                                                 \n",
            " conv2d_17 (Conv2D)          (None, 3, 3, 512)         1180160   \n",
            "                                                                 \n",
            " conv2d_18 (Conv2D)          (None, 3, 3, 512)         2359808   \n",
            "                                                                 \n",
            " conv2d_19 (Conv2D)          (None, 3, 3, 512)         2359808   \n",
            "                                                                 \n",
            " max_pooling2d_7 (MaxPooling  (None, 1, 1, 512)        0         \n",
            " 2D)                                                             \n",
            "                                                                 \n",
            " flatten_1 (Flatten)         (None, 512)               0         \n",
            "                                                                 \n",
            " dense_4 (Dense)             (None, 4096)              2101248   \n",
            "                                                                 \n",
            " dense_5 (Dense)             (None, 4096)              16781312  \n",
            "                                                                 \n",
            " dense_6 (Dense)             (None, 10)                40970     \n",
            "                                                                 \n",
            "=================================================================\n",
            "Total params: 26,558,794\n",
            "Trainable params: 26,558,794\n",
            "Non-trainable params: 0\n",
            "_________________________________________________________________\n"
          ]
        }
      ],
      "source": [
        "model.summary()"
      ]
    },
    {
      "cell_type": "code",
      "execution_count": 44,
      "id": "080bdb25",
      "metadata": {
        "ExecuteTime": {
          "end_time": "2022-03-05T11:30:26.282889Z",
          "start_time": "2022-03-05T11:30:26.275748Z"
        },
        "id": "080bdb25"
      },
      "outputs": [],
      "source": [
        "model.compile(optimizer='adam', loss='categorical_crossentropy', metrics=['accuracy'])"
      ]
    },
    {
      "cell_type": "code",
      "execution_count": 45,
      "id": "a457eede",
      "metadata": {
        "ExecuteTime": {
          "end_time": "2022-03-05T11:30:27.450401Z",
          "start_time": "2022-03-05T11:30:27.446163Z"
        },
        "id": "a457eede"
      },
      "outputs": [],
      "source": [
        "from tensorflow.keras.callbacks import ModelCheckpoint\n",
        "\n",
        "checkpoints = ModelCheckpoint('best_model.h5', monitor='val_accuracy', verbose=1, save_best_only=True, mode='max')"
      ]
    },
    {
      "cell_type": "code",
      "execution_count": 46,
      "id": "1cdee387",
      "metadata": {
        "ExecuteTime": {
          "end_time": "2022-03-05T12:20:31.061648Z",
          "start_time": "2022-03-05T11:30:28.062803Z"
        },
        "colab": {
          "base_uri": "https://localhost:8080/"
        },
        "id": "1cdee387",
        "outputId": "3541af76-b833-4d6f-ea5a-ce673b0a6895"
      },
      "outputs": [
        {
          "output_type": "stream",
          "name": "stdout",
          "text": [
            "Epoch 1/20\n",
            "1500/1500 [==============================] - ETA: 0s - loss: 0.7436 - accuracy: 0.7154\n",
            "Epoch 1: val_accuracy improved from -inf to 0.83783, saving model to best_model.h5\n",
            "1500/1500 [==============================] - 16s 10ms/step - loss: 0.7436 - accuracy: 0.7154 - val_loss: 0.4173 - val_accuracy: 0.8378\n",
            "Epoch 2/20\n",
            "1500/1500 [==============================] - ETA: 0s - loss: 0.3925 - accuracy: 0.8588\n",
            "Epoch 2: val_accuracy improved from 0.83783 to 0.86567, saving model to best_model.h5\n",
            "1500/1500 [==============================] - 15s 10ms/step - loss: 0.3925 - accuracy: 0.8588 - val_loss: 0.3719 - val_accuracy: 0.8657\n",
            "Epoch 3/20\n",
            "1495/1500 [============================>.] - ETA: 0s - loss: 0.3325 - accuracy: 0.8814\n",
            "Epoch 3: val_accuracy improved from 0.86567 to 0.88133, saving model to best_model.h5\n",
            "1500/1500 [==============================] - 15s 10ms/step - loss: 0.3321 - accuracy: 0.8816 - val_loss: 0.3519 - val_accuracy: 0.8813\n",
            "Epoch 4/20\n",
            "1495/1500 [============================>.] - ETA: 0s - loss: 0.2985 - accuracy: 0.8939\n",
            "Epoch 4: val_accuracy improved from 0.88133 to 0.88417, saving model to best_model.h5\n",
            "1500/1500 [==============================] - 15s 10ms/step - loss: 0.2984 - accuracy: 0.8939 - val_loss: 0.3071 - val_accuracy: 0.8842\n",
            "Epoch 5/20\n",
            "1495/1500 [============================>.] - ETA: 0s - loss: 0.2769 - accuracy: 0.9013\n",
            "Epoch 5: val_accuracy improved from 0.88417 to 0.89958, saving model to best_model.h5\n",
            "1500/1500 [==============================] - 15s 10ms/step - loss: 0.2769 - accuracy: 0.9013 - val_loss: 0.2846 - val_accuracy: 0.8996\n",
            "Epoch 6/20\n",
            "1495/1500 [============================>.] - ETA: 0s - loss: 0.2722 - accuracy: 0.9063\n",
            "Epoch 6: val_accuracy did not improve from 0.89958\n",
            "1500/1500 [==============================] - 14s 9ms/step - loss: 0.2722 - accuracy: 0.9063 - val_loss: 0.2874 - val_accuracy: 0.8992\n",
            "Epoch 7/20\n",
            "1495/1500 [============================>.] - ETA: 0s - loss: 0.2442 - accuracy: 0.9134\n",
            "Epoch 7: val_accuracy improved from 0.89958 to 0.91333, saving model to best_model.h5\n",
            "1500/1500 [==============================] - 15s 10ms/step - loss: 0.2441 - accuracy: 0.9135 - val_loss: 0.2471 - val_accuracy: 0.9133\n",
            "Epoch 8/20\n",
            "1495/1500 [============================>.] - ETA: 0s - loss: 0.2243 - accuracy: 0.9192\n",
            "Epoch 8: val_accuracy improved from 0.91333 to 0.91417, saving model to best_model.h5\n",
            "1500/1500 [==============================] - 15s 10ms/step - loss: 0.2241 - accuracy: 0.9192 - val_loss: 0.2478 - val_accuracy: 0.9142\n",
            "Epoch 9/20\n",
            "1495/1500 [============================>.] - ETA: 0s - loss: 0.2282 - accuracy: 0.9193\n",
            "Epoch 9: val_accuracy did not improve from 0.91417\n",
            "1500/1500 [==============================] - 14s 10ms/step - loss: 0.2284 - accuracy: 0.9193 - val_loss: 0.2605 - val_accuracy: 0.9104\n",
            "Epoch 10/20\n",
            "1495/1500 [============================>.] - ETA: 0s - loss: 0.2006 - accuracy: 0.9273\n",
            "Epoch 10: val_accuracy did not improve from 0.91417\n",
            "1500/1500 [==============================] - 14s 9ms/step - loss: 0.2006 - accuracy: 0.9273 - val_loss: 0.2546 - val_accuracy: 0.9135\n",
            "Epoch 11/20\n",
            "1495/1500 [============================>.] - ETA: 0s - loss: 0.1898 - accuracy: 0.9323\n",
            "Epoch 11: val_accuracy did not improve from 0.91417\n",
            "1500/1500 [==============================] - 14s 10ms/step - loss: 0.1898 - accuracy: 0.9323 - val_loss: 0.2949 - val_accuracy: 0.9041\n",
            "Epoch 12/20\n",
            "1495/1500 [============================>.] - ETA: 0s - loss: 0.1913 - accuracy: 0.9335\n",
            "Epoch 12: val_accuracy improved from 0.91417 to 0.92117, saving model to best_model.h5\n",
            "1500/1500 [==============================] - 15s 10ms/step - loss: 0.1911 - accuracy: 0.9336 - val_loss: 0.2426 - val_accuracy: 0.9212\n",
            "Epoch 13/20\n",
            "1499/1500 [============================>.] - ETA: 0s - loss: 0.1719 - accuracy: 0.9390\n",
            "Epoch 13: val_accuracy did not improve from 0.92117\n",
            "1500/1500 [==============================] - 14s 10ms/step - loss: 0.1719 - accuracy: 0.9391 - val_loss: 0.2519 - val_accuracy: 0.9133\n",
            "Epoch 14/20\n",
            "1495/1500 [============================>.] - ETA: 0s - loss: 0.1702 - accuracy: 0.9387\n",
            "Epoch 14: val_accuracy did not improve from 0.92117\n",
            "1500/1500 [==============================] - 14s 10ms/step - loss: 0.1702 - accuracy: 0.9387 - val_loss: 0.2702 - val_accuracy: 0.9179\n",
            "Epoch 15/20\n",
            "1495/1500 [============================>.] - ETA: 0s - loss: 0.1628 - accuracy: 0.9423\n",
            "Epoch 15: val_accuracy did not improve from 0.92117\n",
            "1500/1500 [==============================] - 14s 9ms/step - loss: 0.1628 - accuracy: 0.9423 - val_loss: 0.2669 - val_accuracy: 0.9143\n",
            "Epoch 16/20\n",
            "1495/1500 [============================>.] - ETA: 0s - loss: 0.1565 - accuracy: 0.9450\n",
            "Epoch 16: val_accuracy improved from 0.92117 to 0.92158, saving model to best_model.h5\n",
            "1500/1500 [==============================] - 15s 10ms/step - loss: 0.1564 - accuracy: 0.9451 - val_loss: 0.2670 - val_accuracy: 0.9216\n",
            "Epoch 17/20\n",
            "1495/1500 [============================>.] - ETA: 0s - loss: 0.1585 - accuracy: 0.9439\n",
            "Epoch 17: val_accuracy improved from 0.92158 to 0.92208, saving model to best_model.h5\n",
            "1500/1500 [==============================] - 15s 10ms/step - loss: 0.1584 - accuracy: 0.9439 - val_loss: 0.2377 - val_accuracy: 0.9221\n",
            "Epoch 18/20\n",
            "1495/1500 [============================>.] - ETA: 0s - loss: 0.1352 - accuracy: 0.9519\n",
            "Epoch 18: val_accuracy did not improve from 0.92208\n",
            "1500/1500 [==============================] - 14s 9ms/step - loss: 0.1354 - accuracy: 0.9518 - val_loss: 0.3002 - val_accuracy: 0.9185\n",
            "Epoch 19/20\n",
            "1495/1500 [============================>.] - ETA: 0s - loss: 0.1596 - accuracy: 0.9437\n",
            "Epoch 19: val_accuracy did not improve from 0.92208\n",
            "1500/1500 [==============================] - 14s 9ms/step - loss: 0.1596 - accuracy: 0.9437 - val_loss: 0.2529 - val_accuracy: 0.9183\n",
            "Epoch 20/20\n",
            "1495/1500 [============================>.] - ETA: 0s - loss: 0.1303 - accuracy: 0.9544\n",
            "Epoch 20: val_accuracy did not improve from 0.92208\n",
            "1500/1500 [==============================] - 14s 9ms/step - loss: 0.1305 - accuracy: 0.9544 - val_loss: 0.2992 - val_accuracy: 0.9213\n"
          ]
        }
      ],
      "source": [
        "epochs = 20\n",
        "history = model.fit(train_images, train_labels, epochs=epochs, validation_data=(val_images, val_labels), callbacks=[checkpoints])"
      ]
    },
    {
      "cell_type": "code",
      "execution_count": 47,
      "id": "a7ca81aa",
      "metadata": {
        "colab": {
          "base_uri": "https://localhost:8080/",
          "height": 607
        },
        "id": "a7ca81aa",
        "outputId": "7b0ec1ac-f665-415b-8878-33e79e10dbd8"
      },
      "outputs": [
        {
          "output_type": "display_data",
          "data": {
            "image/png": "[encoded data removed]",
            "text/plain": [
              "<Figure size 1440x720 with 2 Axes>"
            ]
          },
          "metadata": {
            "needs_background": "light"
          }
        }
      ],
      "source": [
        "_, (ax1, ax2) = plt.subplots(1, 2, figsize=(20, 10))\n",
        "\n",
        "ax1.plot(history.epoch, history.history['accuracy'] )\n",
        "ax1.plot(history.epoch, history.history['val_accuracy'] )\n",
        "ax1.set_title('Accuracy')\n",
        "ax1.legend(['accuracy', 'val_accuracy'])\n",
        "\n",
        "ax2.plot(history.epoch, history.history['loss'] )\n",
        "ax2.plot(history.epoch, history.history['val_loss'] )\n",
        "ax2.set_title('Loss')\n",
        "ax2.legend(['loss', 'val_loss'])\n",
        "\n",
        "plt.show()"
      ]
    },
    {
      "cell_type": "code",
      "source": [
        "pred_labels = model.predict(test_images)\n",
        "pred_labels = [np.argmax(a) for a in pred_labels]\n",
        "pred_labels[:10]"
      ],
      "metadata": {
        "colab": {
          "base_uri": "https://localhost:8080/"
        },
        "id": "ykMjTKNED4v9",
        "outputId": "75f07d08-6170-4c58-eea8-9df2a58d8280"
      },
      "id": "ykMjTKNED4v9",
      "execution_count": 48,
      "outputs": [
        {
          "output_type": "execute_result",
          "data": {
            "text/plain": [
              "[0, 1, 2, 2, 3, 6, 8, 6, 5, 0]"
            ]
          },
          "metadata": {},
          "execution_count": 48
        }
      ]
    },
    {
      "cell_type": "code",
      "source": [
        "test_labels = [np.argmax(a) for a in test_labels]\n",
        "test_labels[:10]"
      ],
      "metadata": {
        "colab": {
          "base_uri": "https://localhost:8080/"
        },
        "id": "hrVQfUNeFGnu",
        "outputId": "5164a233-2034-46e6-e17a-c6c1a737dbdf"
      },
      "id": "hrVQfUNeFGnu",
      "execution_count": 49,
      "outputs": [
        {
          "output_type": "execute_result",
          "data": {
            "text/plain": [
              "[0, 1, 2, 2, 3, 2, 8, 6, 5, 0]"
            ]
          },
          "metadata": {},
          "execution_count": 49
        }
      ]
    },
    {
      "cell_type": "code",
      "source": [
        "from sklearn.metrics import classification_report\n",
        "print(classification_report(test_labels, pred_labels))"
      ],
      "metadata": {
        "colab": {
          "base_uri": "https://localhost:8080/"
        },
        "id": "pRDnhq24FmSt",
        "outputId": "06f5fa69-beb8-4fea-b823-3da33d399a54"
      },
      "id": "pRDnhq24FmSt",
      "execution_count": 50,
      "outputs": [
        {
          "output_type": "stream",
          "name": "stdout",
          "text": [
            "              precision    recall  f1-score   support\n",
            "\n",
            "           0       0.85      0.88      0.86      1000\n",
            "           1       1.00      0.99      1.00      1000\n",
            "           2       0.92      0.85      0.89      1000\n",
            "           3       0.92      0.95      0.94      1000\n",
            "           4       0.88      0.89      0.88      1000\n",
            "           5       0.97      0.99      0.98      1000\n",
            "           6       0.78      0.78      0.78      1000\n",
            "           7       0.97      0.96      0.97      1000\n",
            "           8       0.99      0.98      0.98      1000\n",
            "           9       0.98      0.97      0.97      1000\n",
            "\n",
            "    accuracy                           0.93     10000\n",
            "   macro avg       0.93      0.93      0.93     10000\n",
            "weighted avg       0.93      0.93      0.93     10000\n",
            "\n"
          ]
        }
      ]
    },
    {
      "cell_type": "code",
      "source": [
        ""
      ],
      "metadata": {
        "id": "CGsZRKXxGLR9"
      },
      "id": "CGsZRKXxGLR9",
      "execution_count": 50,
      "outputs": []
    }
  ],
  "metadata": {
    "kernelspec": {
      "display_name": "Python 3",
      "language": "python",
      "name": "python3"
    },
    "language_info": {
      "codemirror_mode": {
        "name": "ipython",
        "version": 3
      },
      "file_extension": ".py",
      "mimetype": "text/x-python",
      "name": "python",
      "nbconvert_exporter": "python",
      "pygments_lexer": "ipython3",
      "version": "3.9.9"
    },
    "nbTranslate": {
      "displayLangs": [
        "en"
      ],
      "hotkey": "alt-t",
      "langInMainMenu": true,
      "sourceLang": "en",
      "targetLang": "fr",
      "useGoogleTranslate": true
    },
    "toc": {
      "base_numbering": 1,
      "nav_menu": {},
      "number_sections": true,
      "sideBar": true,
      "skip_h1_title": false,
      "title_cell": "Table of Contents",
      "title_sidebar": "Contents",
      "toc_cell": false,
      "toc_position": {
        "height": "calc(100% - 180px)",
        "left": "10px",
        "top": "150px",
        "width": "286px"
      },
      "toc_section_display": true,
      "toc_window_display": false
    },
    "varInspector": {
      "cols": {
        "lenName": 16,
        "lenType": 16,
        "lenVar": 40
      },
      "kernels_config": {
        "python": {
          "delete_cmd_postfix": "",
          "delete_cmd_prefix": "del ",
          "library": "var_list.py",
          "varRefreshCmd": "print(var_dic_list())"
        },
        "r": {
          "delete_cmd_postfix": ") ",
          "delete_cmd_prefix": "rm(",
          "library": "var_list.r",
          "varRefreshCmd": "cat(var_dic_list()) "
        }
      },
      "types_to_exclude": [
        "module",
        "function",
        "builtin_function_or_method",
        "instance",
        "_Feature"
      ],
      "window_display": false
    },
    "colab": {
      "name": "fashion_mnist.ipynb",
      "provenance": [],
      "collapsed_sections": [],
      "machine_shape": "hm",
      "include_colab_link": true
    },
    "accelerator": "GPU"
  },
  "nbformat": 4,
  "nbformat_minor": 5
}